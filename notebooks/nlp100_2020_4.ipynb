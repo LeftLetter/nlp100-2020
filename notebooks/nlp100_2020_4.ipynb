{
 "cells": [
  {
   "cell_type": "markdown",
   "metadata": {},
   "source": [
    "# 第4章: 形態素解析\n",
    "夏目漱石の小説『吾輩は猫である』の文章（neko.txt）をMeCabを使って形態素解析し，その結果をneko.txt.mecabというファイルに保存せよ．このファイルを用いて，以下の問に対応するプログラムを実装せよ．\n",
    "\n",
    "なお，問題37, 38, 39はmatplotlibもしくはGnuplotを用いるとよい．"
   ]
  },
  {
   "cell_type": "code",
   "execution_count": 1,
   "metadata": {},
   "outputs": [],
   "source": [
    "import spacy\n",
    "\n",
    "with open('./data/neko.txt') as f:\n",
    "    raw_text = f.read()\n",
    "    # 先頭の余計な文字を削除\n",
    "    raw_text = raw_text.replace('一\\n\\n　', '')\n",
    "    nlp = spacy.load('ja_ginza')\n",
    "    doc = nlp(raw_text)\n",
    "    with open('./output/neko.txt.ginza', 'a') as f2:\n",
    "        for sent in doc.sents:\n",
    "            for token in sent:\n",
    "                # 番号、表層系、基本形、品詞を出力\n",
    "                f2.write(','.join([str(token.i), token.orth_, token.lemma_, token.tag_]) + '\\n')"
   ]
  },
  {
   "cell_type": "markdown",
   "metadata": {},
   "source": [
    "## 30. 形態素解析結果の読み込み\n",
    "形態素解析結果（neko.txt.mecab）を読み込むプログラムを実装せよ．ただし，各形態素は表層形（surface），基本形（base），品詞（pos），品詞細分類1（pos1）をキーとするマッピング型に格納し，1文を形態素（マッピング型）のリストとして表現せよ．第4章の残りの問題では，ここで作ったプログラムを活用せよ．"
   ]
  },
  {
   "cell_type": "code",
   "execution_count": 2,
   "metadata": {},
   "outputs": [
    {
     "name": "stdout",
     "output_type": "stream",
     "text": [
      "[{'base': '我が輩', 'pos': '代名詞', 'pos1': [], 'surface': '吾輩'},\n",
      " {'base': 'は', 'pos': '助詞', 'pos1': ['係助詞'], 'surface': 'は'},\n",
      " {'base': '猫', 'pos': '名詞', 'pos1': ['普通名詞', '一般'], 'surface': '猫'},\n",
      " {'base': 'だ', 'pos': '助動詞', 'pos1': [], 'surface': 'で'},\n",
      " {'base': '有る', 'pos': '動詞', 'pos1': ['非自立可能'], 'surface': 'ある'},\n",
      " {'base': '。', 'pos': '補助記号', 'pos1': ['句点'], 'surface': '。'}]\n"
     ]
    }
   ],
   "source": [
    "import pandas as pd\n",
    "import pprint\n",
    "\n",
    "neko_df = pd.read_csv('./output/neko.txt.ginza', header=None)\n",
    "\n",
    "docs = []\n",
    "sentence = []\n",
    "for row in neko_df.itertuples():\n",
    "    pos, *pos1 = row[4].split('-')\n",
    "    neko_dict = {\n",
    "        'surface': row[2],\n",
    "        'base': row[3],\n",
    "        'pos': pos,\n",
    "        'pos1': pos1\n",
    "    }\n",
    "    sentence.append(neko_dict)\n",
    "    # 。で区切る\n",
    "    if row[2] == '。':\n",
    "        docs.append(sentence)\n",
    "        sentence = []\n",
    "pprint.pprint(docs[0])"
   ]
  },
  {
   "cell_type": "markdown",
   "metadata": {},
   "source": [
    "## 31. 動詞\n",
    "動詞の表層形をすべて抽出せよ．"
   ]
  },
  {
   "cell_type": "code",
   "execution_count": 3,
   "metadata": {},
   "outputs": [
    {
     "name": "stdout",
     "output_type": "stream",
     "text": [
      "['吾輩', 'は', '猫', 'で', 'ある', '。', '名前', 'は', 'まだ', '無い', '。', 'どこ', 'で', '生れ', 'た', 'か', 'と', 'んと', '見当', 'が', 'つか', 'ぬ', '。', '何', 'で', 'も', '薄暗い', 'じめじめ', 'し', 'た']\n"
     ]
    }
   ],
   "source": [
    "surfaces = []\n",
    "for sentence in docs:\n",
    "    for morpheme in sentence:\n",
    "        surfaces.append(morpheme['surface'])\n",
    "print(surfaces[:30])"
   ]
  },
  {
   "cell_type": "markdown",
   "metadata": {},
   "source": [
    "## 32. 動詞の原形\n",
    "動詞の原形をすべて抽出せよ．"
   ]
  },
  {
   "cell_type": "code",
   "execution_count": 4,
   "metadata": {},
   "outputs": [
    {
     "name": "stdout",
     "output_type": "stream",
     "text": [
      "['我が輩', 'は', '猫', 'だ', '有る', '。', '名前', 'は', '未だ', '無い', '。', 'どこ', 'で', '生まれる', 'た', 'か', 'と', 'うんと', '見当', 'が', '付く', 'ず', '。', '何', 'で', 'も', '薄暗い', 'じめじめ', '為る', 'た']\n"
     ]
    }
   ],
   "source": [
    "bases = []\n",
    "for sentence in docs:\n",
    "    for morpheme in sentence:\n",
    "        bases.append(morpheme['base'])\n",
    "print(bases[:30])"
   ]
  },
  {
   "cell_type": "markdown",
   "metadata": {},
   "source": [
    "## 33. 「AのB」\n",
    "2つの名詞が「の」で連結されている名詞句を抽出せよ．"
   ]
  },
  {
   "cell_type": "code",
   "execution_count": 5,
   "metadata": {},
   "outputs": [
    {
     "name": "stdout",
     "output_type": "stream",
     "text": [
      "['掌の上', '書生の顔', 'ものの見', 'はずの顔', '顔の真中', '穴の中', '書生の掌', '掌の裏', '今までの所', '藁の上', '笹原の中', '池の前', '池の上', '一樹の蔭', '垣根の穴', '隣家の三毛', '時の通路', '一刻の猶予', '家の内', '以外の人間', '前の書生', 'おさんの隙', 'おさんの三', '胸の痞', '家の主人', '主人の方', 'なしの小猫', '鼻の下', '自分の住家', '家のもの']\n"
     ]
    }
   ],
   "source": [
    "nouns = []\n",
    "for sentence in docs:\n",
    "    for i in range(len(sentence) - 2):\n",
    "        if sentence[i]['pos'] == '名詞' and sentence[i + 1]['surface'] == 'の' and sentence[i + 2]['pos'] == '名詞':\n",
    "            nouns.append(sentence[i]['surface'] + sentence[i + 1]['surface'] + sentence[i + 2]['surface'])\n",
    "print(nouns[:30])"
   ]
  },
  {
   "cell_type": "markdown",
   "metadata": {},
   "source": [
    "## 34. 名詞の連接\n",
    "名詞の連接（連続して出現する名詞）を最長一致で抽出せよ．"
   ]
  },
  {
   "cell_type": "code",
   "execution_count": 6,
   "metadata": {},
   "outputs": [
    {
     "name": "stdout",
     "output_type": "stream",
     "text": [
      "['見始', '時妙', '一毛', '後猫', '上今まで', 'うち池', '書生以外', '間おさん', '宿なし', 'まま奥', '終日書斎', 'ぎりほとんど', '時々忍び足', '二三ページ', '主人以外', '朝主人', '椽側', '一間', '神経胃弱', '時々同衾', '言語同断', '家内総がかり', '先日玉', '一部始終', 'いくら人間', '後架先生', 'そら宗盛', '一月', '月給日', '水彩絵具']\n"
     ]
    }
   ],
   "source": [
    "nouns2 = []\n",
    "for sentence in docs:\n",
    "    word = ''\n",
    "    count = 0\n",
    "    for morpheme in sentence:\n",
    "        if morpheme['pos'] == '名詞':\n",
    "            word += morpheme['surface']\n",
    "            count += 1\n",
    "        else:\n",
    "            if count >= 2:\n",
    "                nouns2.append(word)\n",
    "            word = ''\n",
    "            count = 0 \n",
    "print(nouns2[:30]) "
   ]
  },
  {
   "cell_type": "markdown",
   "metadata": {},
   "source": [
    "## 35. 単語の出現頻度\n",
    "文章中に出現する単語とその出現頻度を求め，出現頻度の高い順に並べよ．"
   ]
  },
  {
   "cell_type": "code",
   "execution_count": 7,
   "metadata": {},
   "outputs": [
    {
     "name": "stdout",
     "output_type": "stream",
     "text": [
      "[('の', 19092), ('。', 14972), ('て', 14802), ('に', 14094), ('、', 13544), ('は', 12970), ('と', 12300), ('を', 12236), ('が', 10790), ('で', 9084), ('た', 7950), ('「', 6476), ('」', 6476), ('も', 6458), ('だ', 5410), ('し', 5060), ('ない', 4846), ('から', 4426), ('か', 4082), ('ある', 3458), ('ん', 3250), ('な', 3200), ('いる', 2510), ('事', 2428), ('する', 2112), ('もの', 2010), ('へ', 1996), ('です', 1956), ('君', 1934), ('云う', 1874)]\n"
     ]
    }
   ],
   "source": [
    "from functools import reduce\n",
    "import collections\n",
    "\n",
    "# 二次元リストをflatten\n",
    "words = reduce(list.__add__, docs)\n",
    "# 単語だけを抜き出し\n",
    "words = collections.Counter(map(lambda e: e['surface'], words))\n",
    "# 出現頻度を算出\n",
    "words = words.most_common()\n",
    "# 出現頻度順にソート\n",
    "words = sorted(words, key=lambda e: e[1], reverse=True)\n",
    "print(words[:30])"
   ]
  },
  {
   "cell_type": "markdown",
   "metadata": {},
   "source": [
    "## 36. 頻度上位10語\n",
    "出現頻度が高い10語とその出現頻度をグラフ（例えば棒グラフなど）で表示せよ．"
   ]
  },
  {
   "cell_type": "code",
   "execution_count": 8,
   "metadata": {},
   "outputs": [
    {
     "data": {
      "image/png": "[encoded data removed]",
      "text/plain": [
       "<Figure size 432x288 with 1 Axes>"
      ]
     },
     "metadata": {},
     "output_type": "display_data"
    }
   ],
   "source": [
    "import seaborn as sns\n",
    "import matplotlib.pyplot as plt\n",
    "\n",
    "words_df = pd.DataFrame(words[:10], columns=['word', 'count'])\n",
    "sns.set(font='AppleMyungjo')\n",
    "\n",
    "fig = plt.figure()\n",
    "ax = fig.add_subplot(111)\n",
    "ax.bar(words_df['word'], words_df['count'])\n",
    "plt.savefig('./output/36.png')"
   ]
  },
  {
   "cell_type": "markdown",
   "metadata": {},
   "source": [
    "## 37. 「猫」と共起頻度の高い上位10語\n",
    "「猫」とよく共起する（共起頻度が高い）10語とその出現頻度をグラフ（例えば棒グラフなど）で表示せよ．"
   ]
  },
  {
   "cell_type": "code",
   "execution_count": 9,
   "metadata": {},
   "outputs": [
    {
     "data": {
      "image/png": "[encoded data removed]",
      "text/plain": [
       "<Figure size 432x288 with 1 Axes>"
      ]
     },
     "metadata": {},
     "output_type": "display_data"
    }
   ],
   "source": [
    "cats = []\n",
    "for sentence in docs:\n",
    "    cat_list = list(filter(lambda e: e['surface'] == '猫', sentence))\n",
    "    if len(cat_list) > 0:\n",
    "        for morpheme in sentence:\n",
    "            if morpheme['surface'] != '猫':\n",
    "                cats.append(morpheme['surface'])\n",
    "cats = collections.Counter(cats)\n",
    "# 出現頻度を算出\n",
    "cats = cats.most_common()\n",
    "# 出現頻度順にソート\n",
    "cats = sorted(cats, key=lambda e: e[1], reverse=True)\n",
    "\n",
    "cats_df = pd.DataFrame(cats[:10], columns=['word', 'count'])\n",
    "sns.set(font='AppleMyungjo')\n",
    "\n",
    "fig = plt.figure()\n",
    "ax = fig.add_subplot(111)\n",
    "ax.bar(cats_df['word'], cats_df['count'])\n",
    "plt.savefig('./output/37.png')"
   ]
  },
  {
   "cell_type": "markdown",
   "metadata": {},
   "source": [
    "## 38. ヒストグラム\n",
    "単語の出現頻度のヒストグラム（横軸に出現頻度，縦軸に出現頻度をとる単語の種類数を棒グラフで表したもの）を描け．"
   ]
  },
  {
   "cell_type": "code",
   "execution_count": 10,
   "metadata": {},
   "outputs": [
    {
     "data": {
      "image/png": "[encoded data removed]",
      "text/plain": [
       "<Figure size 432x288 with 1 Axes>"
      ]
     },
     "metadata": {},
     "output_type": "display_data"
    }
   ],
   "source": [
    "hist_df = pd.DataFrame(words, columns=['word', 'count'])\n",
    "sns.set(font='AppleMyungjo')\n",
    "\n",
    "fig = plt.figure()\n",
    "ax = fig.add_subplot(111)\n",
    "ax.hist(hist_df['count'], range=(1, 100))\n",
    "plt.savefig('./output/38.png')"
   ]
  },
  {
   "cell_type": "code",
   "execution_count": 11,
   "metadata": {},
   "outputs": [
    {
     "data": {
      "image/png": "[encoded data removed]",
      "text/plain": [
       "<Figure size 432x288 with 1 Axes>"
      ]
     },
     "metadata": {},
     "output_type": "display_data"
    }
   ],
   "source": [
    "hist_df = pd.DataFrame(words, columns=['word', 'count'])\n",
    "sns.set(font='AppleMyungjo')\n",
    "\n",
    "fig = plt.figure()\n",
    "ax = fig.add_subplot(111)\n",
    "ax.hist(hist_df['count'])\n",
    "plt.savefig('./output/38_2.png')"
   ]
  },
  {
   "cell_type": "markdown",
   "metadata": {},
   "source": [
    "## 39. Zipfの法則\n",
    "単語の出現頻度順位を横軸，その出現頻度を縦軸として，両対数グラフをプロットせよ．"
   ]
  },
  {
   "cell_type": "code",
   "execution_count": 12,
   "metadata": {},
   "outputs": [
    {
     "data": {
      "image/png": "[encoded data removed]",
      "text/plain": [
       "<Figure size 432x288 with 1 Axes>"
      ]
     },
     "metadata": {},
     "output_type": "display_data"
    }
   ],
   "source": [
    "zipf_df = pd.DataFrame(words, columns=['word', 'count'])\n",
    "sns.set(font='AppleMyungjo')\n",
    "\n",
    "fig = plt.figure()\n",
    "ax = fig.add_subplot(111)\n",
    "ax.set_yscale('log')\n",
    "ax.set_xscale('log')\n",
    "ax.plot(zipf_df['count'])\n",
    "plt.savefig('./output/39.png')"
   ]
  }
 ],
 "metadata": {
  "kernelspec": {
   "display_name": "Python 3",
   "language": "python",
   "name": "python3"
  },
  "language_info": {
   "codemirror_mode": {
    "name": "ipython",
    "version": 3
   },
   "file_extension": ".py",
   "mimetype": "text/x-python",
   "name": "python",
   "nbconvert_exporter": "python",
   "pygments_lexer": "ipython3",
   "version": "3.7.7"
  }
 },
 "nbformat": 4,
 "nbformat_minor": 4
}
